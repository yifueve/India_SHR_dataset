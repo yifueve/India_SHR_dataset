{
 "cells": [
  {
   "cell_type": "code",
   "execution_count": 1,
   "metadata": {},
   "outputs": [],
   "source": [
    "# open indiawater.geojson \n",
    "filename = 'indiawater.geojson'\n",
    "\n",
    "import geopandas as gpd\n",
    "import pandas as pd\n",
    "\n",
    "file = gpd.read_file(filename)"
   ]
  },
  {
   "cell_type": "code",
   "execution_count": 2,
   "metadata": {},
   "outputs": [],
   "source": [
    "from shapely.geometry import Point\n",
    "# write a function given a coordinate, return the water stress score\n",
    "\n",
    "def water_stress_score(lat, lon):\n",
    "    # find the polygon that contains the point\n",
    "    for i in range(len(file)):\n",
    "        if file.geometry[i].contains(Point(lon, lat)):\n",
    "            return file.bws_score[i]\n",
    "    return None"
   ]
  },
  {
   "cell_type": "code",
   "execution_count": 5,
   "metadata": {},
   "outputs": [],
   "source": [
    "power_plants = pd.read_csv('GEM_original_data/India_coal_power_plants.csv')\n",
    "\n",
    "# add a new column to the power_plants dataframe called 'bws_score'\n",
    "power_plants['bws_score'] = power_plants.apply(lambda row: water_stress_score(row['Latitude'], row['Longitude']), axis=1)"
   ]
  },
  {
   "cell_type": "code",
   "execution_count": 6,
   "metadata": {},
   "outputs": [],
   "source": [
    "import numpy as np\n",
    "coal_price = pd.read_csv('State_wise_coal_price.csv')\n",
    "\n",
    "# coal_price: columns State, INR/Mcal\n",
    "# power_plants: column Subnational unit (province, state)\n",
    "\n",
    "# rename Punjab state to Punjab in power_plants\n",
    "power_plants['Subnational unit (province, state)'] = power_plants['Subnational unit (province, state)'].replace('Punjab State', 'Punjab')\n",
    "\n",
    "# drop Puducherry from power_plants\n",
    "power_plants = power_plants[power_plants['Subnational unit (province, state)'] != 'Puducherry']\n",
    "\n",
    "# add a new column to the power_plants dataframe called 'coal_price'\n",
    "def get_coal_price(row):\n",
    "    res = coal_price[coal_price.iloc[:, 0] == row['Subnational unit (province, state)']]['INR/Mcal']\n",
    "    if res is not None and len(res) > 0:\n",
    "        # format res.values[0] as 2 decimal places\n",
    "        return round(res.values[0], 2)\n",
    "    return np.nan\n",
    "power_plants['coal_price'] = power_plants.apply(get_coal_price, axis=1)"
   ]
  },
  {
   "cell_type": "code",
   "execution_count": 10,
   "metadata": {},
   "outputs": [],
   "source": [
    "# read the average max temperature data\n",
    "avg_max_temp = pd.read_csv('average_max_temperature_by_state.csv')\n",
    "\n",
    "def get_avg_max_temp(row):\n",
    "    res = avg_max_temp[avg_max_temp['st_nm'] == row['Subnational unit (province, state)']]['Maximum Temperature']\n",
    "    if res is not None and len(res) > 0:\n",
    "        # format res.values[0] as 2 decimal places\n",
    "        return round(res.values[0], 2)\n",
    "    return np.nan\n",
    "power_plants['avg_max_temp'] = power_plants.apply(get_avg_max_temp, axis=1)"
   ]
  },
  {
   "cell_type": "code",
   "execution_count": 11,
   "metadata": {},
   "outputs": [],
   "source": [
    "# export the power_plants dataframe to a csv file\n",
    "power_plants.to_csv('gem_with_ws_price.csv', index=False)"
   ]
  },
  {
   "cell_type": "code",
   "execution_count": 14,
   "metadata": {},
   "outputs": [],
   "source": [
    "def add_features(filename):\n",
    "    critical_csv = pd.read_csv('CEEW_original_data' + '/' + filename + '.csv')\n",
    "    # need to add coal price and water stress\n",
    "\n",
    "    water_stress_state = pd.read_csv('state_water_stress.csv')\n",
    "    water_stress_state = water_stress_state.set_index(water_stress_state.iloc[:, 0])\n",
    "    critical_csv['bws_score'] = critical_csv.apply(lambda row: water_stress_state.loc[row['State']]['bws'], axis=1)\n",
    "\n",
    "    def get_coal_price(row):\n",
    "        res = coal_price[coal_price.iloc[:, 0]  == row['State']]['INR/Mcal']\n",
    "        if res is not None and len(res) > 0:\n",
    "            # format res.values[0] as 2 decimal places\n",
    "            return round(res.values[0], 2)\n",
    "        return np.nan\n",
    "    \n",
    "    # add temperature \n",
    "    def get_avg_max_temp(row):\n",
    "        res = avg_max_temp[avg_max_temp['st_nm'] == row['State']]['Maximum Temperature']\n",
    "        if res is not None and len(res) > 0:\n",
    "            # format res.values[0] as 2 decimal places\n",
    "            return round(res.values[0], 2)\n",
    "        return np.nan\n",
    "\n",
    "    critical_csv['coal_price'] = critical_csv.apply(get_coal_price, axis=1)\n",
    "    critical_csv['avg_max_temp'] = critical_csv.apply(get_avg_max_temp, axis=1)\n",
    "\n",
    "    critical_csv.to_csv(f'CEEW_{filename}_with_ws_price.csv', index=False)"
   ]
  },
  {
   "cell_type": "code",
   "execution_count": 15,
   "metadata": {},
   "outputs": [],
   "source": [
    "add_features('subcritical') # created from CEEW\n",
    "add_features('supercritical')"
   ]
  }
 ],
 "metadata": {
  "kernelspec": {
   "display_name": "indiaproject",
   "language": "python",
   "name": "python3"
  },
  "language_info": {
   "codemirror_mode": {
    "name": "ipython",
    "version": 3
   },
   "file_extension": ".py",
   "mimetype": "text/x-python",
   "name": "python",
   "nbconvert_exporter": "python",
   "pygments_lexer": "ipython3",
   "version": "3.9.16"
  }
 },
 "nbformat": 4,
 "nbformat_minor": 2
}
